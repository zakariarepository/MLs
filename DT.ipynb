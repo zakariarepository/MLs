{
 "cells": [
  {
   "cell_type": "code",
   "execution_count": null,
   "metadata": {},
   "outputs": [],
   "source": []
  },
  {
   "cell_type": "code",
   "execution_count": 2,
   "metadata": {},
   "outputs": [],
   "source": [
    "from mlxtend.evaluate import bias_variance_decomp\n",
    "from sklearn.tree import DecisionTreeClassifier\n",
    "from mlxtend.data import iris_data\n",
    "from sklearn.model_selection import train_test_split\n",
    "# Get Data Set\n",
    "X, y = iris_data()\n",
    "X_train_ds, X_test_ds, y_train_ds, y_test_ds = train_test_split(X, y,\n",
    "test_size=0.3,\n",
    "random_state=123,\n",
    "shuffle=True,\n",
    "stratify=y)"
   ]
  },
  {
   "cell_type": "code",
   "execution_count": 3,
   "metadata": {},
   "outputs": [
    {
     "name": "stdout",
     "output_type": "stream",
     "text": [
      "Average Expected Loss: 0.0607n\n",
      "Average Bias: 0.0222\n",
      "Average Variance: 0.0393\n"
     ]
    }
   ],
   "source": [
    "# Define Algorithm \n",
    "tree = DecisionTreeClassifier(random_state=123)\n",
    "# Get Bias and Variance - bias_variance_decomp function\n",
    "avg_expected_loss, avg_bias, avg_var = bias_variance_decomp(\n",
    "tree, X_train_ds, y_train_ds, X_test_ds, y_test_ds, \n",
    "loss='0-1_loss',\n",
    "random_seed=123,\n",
    "num_rounds=1000)\n",
    "# Display Bias and Variance\n",
    "print(f'Average Expected Loss: {round(avg_expected_loss, 4)}n')\n",
    "print(f'Average Bias: {round(avg_bias, 4)}')\n",
    "print(f'Average Variance: {round(avg_var, 4)}')"
   ]
  }
 ],
 "metadata": {
  "kernelspec": {
   "display_name": "Python 3",
   "language": "python",
   "name": "python3"
  },
  "language_info": {
   "codemirror_mode": {
    "name": "ipython",
    "version": 3
   },
   "file_extension": ".py",
   "mimetype": "text/x-python",
   "name": "python",
   "nbconvert_exporter": "python",
   "pygments_lexer": "ipython3",
   "version": "3.8.0"
  },
  "orig_nbformat": 4
 },
 "nbformat": 4,
 "nbformat_minor": 2
}
